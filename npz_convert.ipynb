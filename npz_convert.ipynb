{
 "cells": [
  {
   "cell_type": "code",
   "execution_count": null,
   "metadata": {},
   "outputs": [],
   "source": [
    "from PIL import Image\n",
    "import os\n",
    "import numpy as np\n",
    "from numpy import savez_compressed"
   ]
  },
  {
   "cell_type": "code",
   "execution_count": null,
   "metadata": {},
   "outputs": [],
   "source": [
    "#Loading the dataset\n",
    "\n",
    "org_dir = 'org'\n",
    "rec_dir = 'rec'\n",
    "x_data = []\n",
    "y_data = []\n",
    "\n",
    "for image_file in os.listdir( org_dir ):\n",
    "    rgb_image = Image.open( os.path.join( org_dir , image_file ) )\n",
    "    # Normalize the RGB image array\n",
    "    rgb_img_array = (np.asarray( rgb_image ) )\n",
    "    x_data.append( rgb_img_array)\n",
    "    print(image_file)\n",
    "    \n",
    "\n",
    "for image_file in os.listdir( rec_dir ):\n",
    "    rec_image = Image.open( os.path.join( rec_dir , image_file ) )\n",
    "    # Normalize the recolored RGB image array\n",
    "    rec_img_array = (np.asarray( rec_image ) )\n",
    "    y_data.append( rec_img_array)\n",
    "    print(image_file)\n",
    "\n",
    "x = np.array(x_data)\n",
    "y = np.array(y_data)\n"
   ]
  },
  {
   "cell_type": "code",
   "execution_count": null,
   "metadata": {},
   "outputs": [],
   "source": [
    "filename = \"dataset\\cifar10.npz\"\n",
    "savez_compressed(filename, x, y)\n",
    "print(\"saved dataset\", filename)"
   ]
  },
  {
   "cell_type": "code",
   "execution_count": null,
   "metadata": {},
   "outputs": [],
   "source": []
  }
 ],
 "metadata": {
  "language_info": {
   "name": "python"
  },
  "orig_nbformat": 4
 },
 "nbformat": 4,
 "nbformat_minor": 2
}
